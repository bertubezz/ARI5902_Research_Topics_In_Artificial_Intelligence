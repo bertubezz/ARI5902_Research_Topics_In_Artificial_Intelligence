{
 "cells": [
  {
   "cell_type": "code",
   "execution_count": 1,
   "metadata": {},
   "outputs": [
    {
     "name": "stdout",
     "output_type": "stream",
     "text": [
      "2017.09.1\n"
     ]
    }
   ],
   "source": [
    "import rdkit # compchem library\n",
    "from rdkit import Chem\n",
    "from rdkit.Chem import AllChem\n",
    "from rdkit.Chem.Draw import IPythonConsole # use this to draw molecules in the notebook\n",
    "from rdkit import rdBase\n",
    "print(rdBase.rdkitVersion)"
   ]
  },
  {
   "cell_type": "code",
   "execution_count": 2,
   "metadata": {},
   "outputs": [],
   "source": [
    "import py3Dmol # for 3D viz"
   ]
  },
  {
   "cell_type": "code",
   "execution_count": 3,
   "metadata": {},
   "outputs": [
    {
     "data": {
      "image/png": "[encoded data removed]",
      "text/plain": [
       "<rdkit.Chem.rdchem.Mol at 0x7f98b2740800>"
      ]
     },
     "execution_count": 3,
     "metadata": {},
     "output_type": "execute_result"
    }
   ],
   "source": [
    "Chem.MolFromSmiles('[H]O[H]') # a simple molecule, water"
   ]
  },
  {
   "cell_type": "markdown",
   "metadata": {},
   "source": [
    "# A More Complex Example - Coffee (Caffeine, C8H10N4O2)"
   ]
  },
  {
   "cell_type": "markdown",
   "metadata": {},
   "source": [
    "<img src=\"https://upload.wikimedia.org/wikipedia/commons/thumb/8/8c/Caffeine_structure.svg/1200px-Caffeine_structure.svg.png\" width=\"300\" height=\"300\" alt=\"Image of Caffeine molecule\" />"
   ]
  },
  {
   "cell_type": "code",
   "execution_count": 4,
   "metadata": {},
   "outputs": [
    {
     "data": {
      "image/png": "[encoded data removed]",
      "text/plain": [
       "<rdkit.Chem.rdchem.Mol at 0x7f98b2751620>"
      ]
     },
     "execution_count": 4,
     "metadata": {},
     "output_type": "execute_result"
    }
   ],
   "source": [
    "# a little more complex example - coffee (caffeine) -\n",
    "Chem.MolFromSmiles(\"CN1C=NC2=C1C(=O)N(C(=O)N2C)C\")"
   ]
  },
  {
   "cell_type": "code",
   "execution_count": 5,
   "metadata": {},
   "outputs": [
    {
     "data": {
      "text/html": [
       "<div id=\"3dmolviewer_15114364634052544\"  style=\"position: relative; width: 400px; height: 400px\">\n",
       "<script>\n",
       "if(typeof $3Dmolpromise === 'undefined') $3Dmolpromise = $.when($.getScript('https://3dmol.csb.pitt.edu/build/3Dmol.js'))\n",
       "var viewer_15114364634052544 = null;\n",
       "$3Dmolpromise.done(function() {\n",
       "viewer_15114364634052544 = $3Dmol.createViewer($(\"#3dmolviewer_15114364634052544\"),{backgroundColor:\"white\"});\n",
       "\tviewer_15114364634052544.addModel(\"\\n     RDKit          3D\\n\\n 24 25  0  0  0  0  0  0  0  0999 V2000\\n    3.1965    0.7283   -0.2161 C   0  0  0  0  0  0  0  0  0  0  0  0\\n    2.1552   -0.2580   -0.2625 N   0  0  0  0  0  0  0  0  0  0  0  0\\n    2.2313   -1.5742   -0.4768 C   0  0  0  0  0  0  0  0  0  0  0  0\\n    0.9926   -2.1227   -0.4340 N   0  0  0  0  0  0  0  0  0  0  0  0\\n    0.1059   -1.1699   -0.1924 C   0  0  0  0  0  0  0  0  0  0  0  0\\n    0.8450    0.0145   -0.0836 C   0  0  0  0  0  0  0  0  0  0  0  0\\n    0.1473    1.1755    0.1711 C   0  0  0  0  0  0  0  0  0  0  0  0\\n    0.7602    2.2749    0.2797 O   0  0  0  0  0  0  0  0  0  0  0  0\\n   -1.1888    1.1741    0.3098 N   0  0  0  0  0  0  0  0  0  0  0  0\\n   -1.8433    0.0035    0.1942 C   0  0  0  0  0  0  0  0  0  0  0  0\\n   -3.1051    0.0607    0.3344 O   0  0  0  0  0  0  0  0  0  0  0  0\\n   -1.2294   -1.1607   -0.0522 N   0  0  0  0  0  0  0  0  0  0  0  0\\n   -1.9507   -2.3871   -0.1695 C   0  0  0  0  0  0  0  0  0  0  0  0\\n   -1.9289    2.4159    0.5814 C   0  0  0  0  0  0  0  0  0  0  0  0\\n    4.1649    0.1955    0.0186 H   0  0  0  0  0  0  0  0  0  0  0  0\\n    3.3278    1.2626   -1.1829 H   0  0  0  0  0  0  0  0  0  0  0  0\\n    3.0635    1.4585    0.6047 H   0  0  0  0  0  0  0  0  0  0  0  0\\n    3.1747   -2.0836   -0.6548 H   0  0  0  0  0  0  0  0  0  0  0  0\\n   -1.3417   -3.2859    0.0172 H   0  0  0  0  0  0  0  0  0  0  0  0\\n   -2.7565   -2.4049    0.6221 H   0  0  0  0  0  0  0  0  0  0  0  0\\n   -2.5028   -2.4927   -1.1303 H   0  0  0  0  0  0  0  0  0  0  0  0\\n   -2.7790    2.2472    1.2427 H   0  0  0  0  0  0  0  0  0  0  0  0\\n   -2.3243    2.7552   -0.4186 H   0  0  0  0  0  0  0  0  0  0  0  0\\n   -1.2142    3.1730    0.8976 H   0  0  0  0  0  0  0  0  0  0  0  0\\n  1  2  1  0\\n  2  3  1  0\\n  3  4  2  0\\n  4  5  1  0\\n  5  6  2  0\\n  6  7  1  0\\n  7  8  2  0\\n  7  9  1  0\\n  9 10  1  0\\n 10 11  2  0\\n 10 12  1  0\\n 12 13  1  0\\n  9 14  1  0\\n  6  2  1  0\\n 12  5  1  0\\n  1 15  1  0\\n  1 16  1  0\\n  1 17  1  0\\n  3 18  1  0\\n 13 19  1  0\\n 13 20  1  0\\n 13 21  1  0\\n 14 22  1  0\\n 14 23  1  0\\n 14 24  1  0\\nM  END\\n\",\"sdf\");\n",
       "\tviewer_15114364634052544.setStyle({\"stick\": {}});\n",
       "\tviewer_15114364634052544.setBackgroundColor(\"0xffffff\");\n",
       "\tviewer_15114364634052544.zoomTo();\n",
       "viewer_15114364634052544.render();\n",
       "});\n",
       "</script>"
      ],
      "text/plain": [
       "<IPython.core.display.HTML object>"
      ]
     },
     "execution_count": 5,
     "metadata": {},
     "output_type": "execute_result"
    }
   ],
   "source": [
    "m = Chem.AddHs(Chem.MolFromSmiles('CN1C=NC2=C1C(=O)N(C(=O)N2C)C'))\n",
    "AllChem.EmbedMultipleConfs(m ,useExpTorsionAnglePrefs=True, useBasicKnowledge=True)\n",
    "mb = Chem.MolToMolBlock(m)\n",
    "p = py3Dmol.view(width=400,height=400)\n",
    "p.addModel(mb, 'sdf')\n",
    "p.setStyle({'stick':{}})\n",
    "p.setBackgroundColor('0xffffff')\n",
    "p.zoomTo()\n",
    "p.show()"
   ]
  },
  {
   "cell_type": "markdown",
   "metadata": {},
   "source": [
    "# Try some molecules yourself!\n",
    "\n",
    "(Hint: ignore Hydrogen atoms for now)\n",
    "\n",
    "1. Alcohol (Ethanol) <img src=\"https://upload.wikimedia.org/wikipedia/commons/thumb/e/e8/Ethanol-structure.svg/1200px-Ethanol-structure.svg.png\" width=\"200\" height=\"200\" alt=\"Image of Ethanol molecule\" />\n",
    "2. Vitamin C (Ascorbic Acid) <img src=\"https://upload.wikimedia.org/wikipedia/commons/thumb/e/e7/L-Ascorbic_acid.svg/1200px-L-Ascorbic_acid.svg.png\" width=\"200\" height=\"200\" alt=\"Image of Ascorbic Acid molecule\" />\n",
    "3. Cocaine (Benzoylmethylecgonine) <img src=\"https://upload.wikimedia.org/wikipedia/commons/thumb/6/66/Kokain_-_Cocaine.svg/1200px-Kokain_-_Cocaine.svg.png\" width=\"200\" height=\"200\" alt=\"Image of Ascorbic Acid molecule\" />\n",
    "4. Viagra (Sildenafil) <img src=\"https://upload.wikimedia.org/wikipedia/commons/thumb/d/d3/Sildenafil_structure.svg/250px-Sildenafil_structure.svg.png\" width=\"200\" height=\"200\" alt=\"Image of Ascorbic Acid molecule\" />\n",
    "\n"
   ]
  },
  {
   "cell_type": "code",
   "execution_count": 6,
   "metadata": {},
   "outputs": [
    {
     "data": {
      "text/html": [
       "<div id=\"3dmolviewer_15114364714356618\"  style=\"position: relative; width: 640px; height: 480px\">\n",
       "<script>\n",
       "if(typeof $3Dmolpromise === 'undefined') $3Dmolpromise = $.when($.getScript('https://3dmol.csb.pitt.edu/build/3Dmol.js'))\n",
       "var viewer_15114364714356618 = null;\n",
       "$3Dmolpromise.done(function() {\n",
       "viewer_15114364714356618 = $3Dmol.createViewer($(\"#3dmolviewer_15114364714356618\"),{backgroundColor:\"white\"});\n",
       "$3Dmol.download(\"pdb:1pwc\", viewer_15114364714356618, {\"multimodel\": true}, function() {\n",
       "\tviewer_15114364714356618.setStyle({\"chain\": \"A\"},{\"stick\": {\"color\": \"spectrum\"}});\n",
       "viewer_15114364714356618.render();\n",
       "})\n",
       "});\n",
       "</script>"
      ],
      "text/plain": [
       "<py3Dmol.view at 0x7f98b27486d8>"
      ]
     },
     "execution_count": 6,
     "metadata": {},
     "output_type": "execute_result"
    }
   ],
   "source": [
    "# Proteins are much larger complexes, sometimes called macromolecules\n",
    "view = py3Dmol.view(query='pdb:1pwc', options={'multimodel':True})\n",
    "view.setStyle({'chain':'A'}, {'stick':{'color':'spectrum'}})\n",
    "#view.addSurface(\"VDW\", {'opacity': 0.6});\n",
    "view"
   ]
  },
  {
   "cell_type": "markdown",
   "metadata": {},
   "source": [
    "Now have a look at __penicillin__ (a famous antibacterial) discovered accidentally by Sir Alexander Fleming."
   ]
  },
  {
   "cell_type": "code",
   "execution_count": 7,
   "metadata": {},
   "outputs": [
    {
     "data": {
      "text/html": [
       "<div id=\"3dmolviewer_15114365025132115\"  style=\"position: relative; width: 640px; height: 480px\">\n",
       "<script>\n",
       "if(typeof $3Dmolpromise === 'undefined') $3Dmolpromise = $.when($.getScript('https://3dmol.csb.pitt.edu/build/3Dmol.js'))\n",
       "var viewer_15114365025132115 = null;\n",
       "$3Dmolpromise.done(function() {\n",
       "viewer_15114365025132115 = $3Dmol.createViewer($(\"#3dmolviewer_15114365025132115\"),{backgroundColor:\"white\"});\n",
       "$3Dmol.download(\"pdb:1pwc\", viewer_15114365025132115, {}, function() {\n",
       "\tviewer_15114365025132115.setStyle({\"chain\": \"A\"},{\"stick\": {}});\n",
       "\tviewer_15114365025132115.setStyle({\"resn\": \"PNM\"},{\"stick\": {\"colorscheme\": \"yellowCarbon\"}});\n",
       "\tviewer_15114365025132115.addSurface(\"VDW\",{\"opacity\": 0.9},{\"hetflag\": false});\n",
       "\tviewer_15114365025132115.zoomTo({\"resn\": \"PNM\"});\n",
       "viewer_15114365025132115.render();\n",
       "})\n",
       "});\n",
       "</script>"
      ],
      "text/plain": [
       "<IPython.core.display.HTML object>"
      ]
     },
     "execution_count": 7,
     "metadata": {},
     "output_type": "execute_result"
    }
   ],
   "source": [
    "view = py3Dmol.view(query='pdb:1pwc')\n",
    "view.setStyle({'chain':'A'}, {'stick':{}})\n",
    "view.setStyle({'resn':'PNM'}, {'stick':{'colorscheme':'yellowCarbon'}})\n",
    "view.addSurface(\"VDW\", {'opacity': 0.9},{'hetflag':False});\n",
    "view.zoomTo({'resn':'PNM'})\n",
    "view.show()"
   ]
  }
 ],
 "metadata": {
  "kernelspec": {
   "display_name": "Python 3",
   "language": "python",
   "name": "python3"
  },
  "language_info": {
   "codemirror_mode": {
    "name": "ipython",
    "version": 3
   },
   "file_extension": ".py",
   "mimetype": "text/x-python",
   "name": "python",
   "nbconvert_exporter": "python",
   "pygments_lexer": "ipython3",
   "version": "3.5.4"
  }
 },
 "nbformat": 4,
 "nbformat_minor": 2
}
